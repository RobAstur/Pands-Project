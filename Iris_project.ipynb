{
 "cells": [
  {
   "cell_type": "markdown",
   "metadata": {},
   "source": [
    "# Iris\n",
    "\n",
    "***\n"
   ]
  },
  {
   "cell_type": "markdown",
   "metadata": {},
   "source": [
    "### Section 1\n",
    "\n",
    "Formula can be run to get individual info and not a full summary. If we add for example df_string = iris_dataset **[\"sepal_width\"]** .describe().to_string() it will show only info from that column\n",
    "\n",
    "The formula is left with parameter w. It will allow as to write and read. there are other options like read (r)  or appending (a)"
   ]
  }
 ],
 "metadata": {
  "language_info": {
   "name": "python"
  }
 },
 "nbformat": 4,
 "nbformat_minor": 2
}
