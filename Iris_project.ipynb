{
 "cells": [
  {
   "cell_type": "markdown",
   "metadata": {},
   "source": [
    "# Iris Flowers project\n",
    "\n",
    "***\n"
   ]
  },
  {
   "cell_type": "markdown",
   "metadata": {},
   "source": [
    "#### Getting started\n",
    "\n",
    "In order to work with this repository, the author recommends the installations of below packages/programs.\n",
    "\n",
    "*\tInstall the latest version of Python and Pandas, Matplotlib and NumPy modules. All of it include in  [Anaconda ]( https://www.anaconda.com/download/). \n",
    "*   To start using the notebooks, I recommend to install [Visual studio](https://visualstudio.microsoft.com/downloads/). \n"
   ]
  },
  {
   "cell_type": "markdown",
   "metadata": {},
   "source": [
    "The jupyter note book will be used to clarify and explain the code in the anylisis of teh iris datset \n",
    "\n",
    "For this project I have used below link. The reson of that it is it has format in the columns (column names) and it is much easier to process. \n",
    "\n",
    "iris_dataset = pd.read_csv(\"https://raw.githubusercontent.com/mwaskom/seaborn-data/master/iris.csv\")"
   ]
  },
  {
   "cell_type": "markdown",
   "metadata": {},
   "source": [
    "#### Section 1 - creating file\n",
    "\n",
    "Formula can be run to get individual info and not a full summary. If we add for example df_string = iris_dataset **[\"sepal_width\"]** .describe().to_string() it will show only info from that column\n",
    "\n",
    "The formula is left with parameter w. It will allow as to write and read. there are other options like read (r)  or appending (a). More info in https://www.w3schools.com/python/python_file_handling.asp // https://www.geeksforgeeks.org/exploratory-data-analysis-on-iris-dataset/\n",
    "\n"
   ]
  },
  {
   "cell_type": "markdown",
   "metadata": {},
   "source": [
    "#### Section 2 - Numpy arrays\n",
    "\n",
    "We need to  create the arrays with numpy and create the variables associated with it. We will use these variables during the creation of the different plots\n",
    "\n",
    "Array seplen will have numbers from \"sepal_length\" \n",
    "Array sewidt will have numbers from \"sepal_width\"\n",
    "Array peleng will have numbers from \"petal_length\"\n",
    "Array will have numbers from \"petal_width\""
   ]
  },
  {
   "cell_type": "markdown",
   "metadata": {},
   "source": [
    "#### Section 3 - Charts\n",
    "\n",
    "There is 2 different types of charts in this project. All of them can be found in github. We use matplotlib. FOr more info https://matplotlib.org/ // https://www.w3schools.com/python/matplotlib_histograms.asp // https://www.w3schools.com/python/matplotlib_scatter.asp\n",
    "\n",
    " ##### Histograms\n",
    "\n",
    " plt.hist is the formula that we use to create the histogram. For each of them we used one of the variables created with numpy, rest of the arguments can be modified and more arguments can be added. for exmpale number of Bins or change colors.\n",
    "\n",
    " For each of the histograms I added extras like title, x and y names.\n",
    "\n",
    " ##### Scatter Plot\n",
    "\n",
    " plt.scatter is the formula to create the chart. This time it has 2 variables, the variables used are coming from the arrays we previously create with numpy. Rest of parameters are optional and can be modifed. remove or add more.\n",
    "\n",
    " Each scatter plot has title and x/y names.\n",
    "\n",
    " #### Bar charts combined with scatter plot \n",
    "\n",
    " For more info please visit : https://www.statology.org/pandas-groupby-bar-plot/ // https://pandas.pydata.org/docs/reference/api/pandas.Series.reset_index.html //https://www.w3resource.com/pandas/series/series-reset_index.php\n",
    "\n",
    " This charts are created using plt.bar, groupby and again the scatter plot. The idea behings this charts is to show the mean and the range of values of each of the species in one plot.\n",
    "\n",
    " To create this plot the first thing we need to do is create a variable (in this case flowers_grouped). I pull the info directly form the dataset. Then It is time to groupe the data. In our case we are using species, to finally calculate the mean. With this variable we can create the bar plot and on top of that we can scatter chart pulling info directly from the datatset. \n",
    "\n",
    " How did I come with this idea? I was lucky I was trying different things and suddenly the bar chart and scatter plot got melted in the same chart.\n",
    "\n",
    " The reset index is used to generate a new datarame otherwise code doesnt work.\n"
   ]
  },
  {
   "cell_type": "markdown",
   "metadata": {},
   "source": [
    "***\n",
    "END\n"
   ]
  },
  {
   "cell_type": "markdown",
   "metadata": {},
   "source": []
  },
  {
   "cell_type": "markdown",
   "metadata": {},
   "source": []
  }
 ],
 "metadata": {
  "language_info": {
   "name": "python"
  }
 },
 "nbformat": 4,
 "nbformat_minor": 2
}
