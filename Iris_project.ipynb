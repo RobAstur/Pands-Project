{
 "cells": [
  {
   "cell_type": "markdown",
   "metadata": {},
   "source": [
    "# Iris Flowers project\n",
    "\n",
    "***\n"
   ]
  },
  {
   "cell_type": "markdown",
   "metadata": {},
   "source": [
    "The jupyter note book will be used to clarify and explain the code in the anylisis of teh iris datset \n",
    "\n",
    "For this project I have used below link. The reson of that it is it has format in the columns (column names) and it is much easier to process. \n",
    "\n",
    "iris_dataset = pd.read_csv(\"https://raw.githubusercontent.com/mwaskom/seaborn-data/master/iris.csv\")"
   ]
  },
  {
   "cell_type": "markdown",
   "metadata": {},
   "source": [
    "#### Section 1 - creating file\n",
    "\n",
    "Formula can be run to get individual info and not a full summary. If we add for example df_string = iris_dataset **[\"sepal_width\"]** .describe().to_string() it will show only info from that column\n",
    "\n",
    "The formula is left with parameter w. It will allow as to write and read. there are other options like read (r)  or appending (a). More info in https://www.w3schools.com/python/python_file_handling.asp // https://www.geeksforgeeks.org/exploratory-data-analysis-on-iris-dataset/\n",
    "\n"
   ]
  },
  {
   "cell_type": "markdown",
   "metadata": {},
   "source": [
    "#### Section 2 - Numpy arrays\n",
    "\n",
    "Although, it is nto mandatory we can create the arrays with numpy and create the variables associated with it. We will use these variables \n",
    "\n",
    "Array seplen will have numbers from \"sepal_length\" \n",
    "Array sewidt will have numbers from \"sepal_width\"\n",
    "Array peleng will have numbers from \"petal_length\"\n",
    "Array will have numbers from \"petal_width\""
   ]
  },
  {
   "cell_type": "markdown",
   "metadata": {},
   "source": [
    "#### Section 3 - Charts\n",
    "\n",
    "There is 2 different types of charts in this project. All of them can be found in github. We use matplotlib. FOr more info https://matplotlib.org/ // https://www.w3schools.com/python/matplotlib_histograms.asp\n",
    "\n",
    " ##### Histograms\n",
    "\n",
    " plt.hist is the formula that we use to create the histogram. For each of them we used one of the variables created with numpy, rest of the arguments can be modified and more arguments can be added. for exmpale number of Bins or change colors.\n",
    "\n",
    " For each of the histograms I added extras like title, x and y names.\n",
    "\n",
    " ##### Scatter Plot\n",
    "\n",
    " plt.scatter is the formula to create the chart. This time it has 2 variables, the variables used are coming from the arrays we previously create. Rest of parameters are optional and can be modifed. remove or are more.\n",
    "\n",
    " Each scatter plot has title and x/y names.\n",
    "\n",
    " \n",
    "\n"
   ]
  },
  {
   "cell_type": "markdown",
   "metadata": {},
   "source": [
    "***\n",
    "END\n"
   ]
  },
  {
   "cell_type": "markdown",
   "metadata": {},
   "source": []
  },
  {
   "cell_type": "markdown",
   "metadata": {},
   "source": []
  }
 ],
 "metadata": {
  "language_info": {
   "name": "python"
  }
 },
 "nbformat": 4,
 "nbformat_minor": 2
}
